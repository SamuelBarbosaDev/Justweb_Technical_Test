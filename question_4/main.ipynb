{
 "cells": [
  {
   "cell_type": "code",
   "execution_count": 5,
   "metadata": {},
   "outputs": [],
   "source": [
    "import os\n",
    "# Definindo a variável de ambiente do SPARK_VERSION com versão do Spark que estou usando:\n",
    "os.environ[\"SPARK_VERSION\"]=\"3.4.1\""
   ]
  },
  {
   "cell_type": "code",
   "execution_count": 13,
   "metadata": {},
   "outputs": [],
   "source": [
    "from pyspark.sql import SparkSession\n",
    "from pyspark.sql.types import (\n",
    "    StructField,\n",
    "    StructType,\n",
    "    StringType,\n",
    "    TimestampType,\n",
    "    DoubleType,\n",
    "    IntegerType,\n",
    ")"
   ]
  },
  {
   "cell_type": "markdown",
   "metadata": {},
   "source": [
    "SparkSession:"
   ]
  },
  {
   "cell_type": "code",
   "execution_count": 7,
   "metadata": {},
   "outputs": [
    {
     "name": "stderr",
     "output_type": "stream",
     "text": [
      "23/09/23 10:38:57 WARN Utils: Your hostname, guerrlr0-A320M-S2H resolves to a loopback address: 127.0.1.1; using 192.168.11.7 instead (on interface enp6s0)\n",
      "23/09/23 10:38:57 WARN Utils: Set SPARK_LOCAL_IP if you need to bind to another address\n",
      "Setting default log level to \"WARN\".\n",
      "To adjust logging level use sc.setLogLevel(newLevel). For SparkR, use setLogLevel(newLevel).\n",
      "23/09/23 10:38:57 WARN NativeCodeLoader: Unable to load native-hadoop library for your platform... using builtin-java classes where applicable\n"
     ]
    }
   ],
   "source": [
    "spark = SparkSession.builder.appName('question_4').getOrCreate()"
   ]
  },
  {
   "cell_type": "markdown",
   "metadata": {},
   "source": [
    "Schema:"
   ]
  },
  {
   "cell_type": "code",
   "execution_count": 14,
   "metadata": {},
   "outputs": [],
   "source": [
    "schema = StructType([\n",
    "    StructField('id', StringType()),\n",
    "    StructField('data_emissao', TimestampType()),\n",
    "    StructField('data_vencimento', TimestampType()),\n",
    "    StructField('valor', DoubleType()),\n",
    "    StructField('status', StringType()),\n",
    "    StructField('pagamento_data', TimestampType()),\n",
    "    StructField('baixa_data', TimestampType()),\n",
    "    StructField('data_cancelamento', TimestampType()),\n",
    "    StructField('valor_cancelado', DoubleType()),\n",
    "    StructField('pagamento_valor', DoubleType()),\n",
    "    StructField('id_renegociacao', StringType()),\n",
    "    StructField('id_renegociacao_novo', StringType()),\n",
    "])"
   ]
  },
  {
   "cell_type": "markdown",
   "metadata": {},
   "source": [
    "### DataFrame:"
   ]
  },
  {
   "cell_type": "code",
   "execution_count": 8,
   "metadata": {},
   "outputs": [],
   "source": [
    "path = r'../data/Tabela financeiro - teste Python pleno.csv'"
   ]
  },
  {
   "cell_type": "code",
   "execution_count": 23,
   "metadata": {},
   "outputs": [],
   "source": [
    "df = spark.read.csv(\n",
    "    path,\n",
    "    sep=',',\n",
    "    header=True,\n",
    "    schema=schema\n",
    ").createOrReplaceTempView(\"base_de_dados\")"
   ]
  },
  {
   "cell_type": "code",
   "execution_count": 24,
   "metadata": {},
   "outputs": [
    {
     "name": "stdout",
     "output_type": "stream",
     "text": [
      "+------+-------------------+-------------------+-----+------+-------------------+-------------------+-------------------+---------------+---------------+---------------+--------------------+\n",
      "|    id|       data_emissao|    data_vencimento|valor|status|     pagamento_data|         baixa_data|  data_cancelamento|valor_cancelado|pagamento_valor|id_renegociacao|id_renegociacao_novo|\n",
      "+------+-------------------+-------------------+-----+------+-------------------+-------------------+-------------------+---------------+---------------+---------------+--------------------+\n",
      "| 86794|2019-05-20 00:00:00|2020-06-01 00:00:00| 99.9|     R|2020-05-25 00:00:00|2020-05-26 08:53:20|               null|            0.0|           99.9|           null|                null|\n",
      "| 89892|2019-05-21 00:00:00|2020-06-01 00:00:00| 99.9|     C|               null|               null|2019-05-21 00:00:00|           99.9|           null|           null|                null|\n",
      "| 91689|2019-05-22 00:00:00|2020-06-01 00:00:00| 64.9|     R|2020-05-25 00:00:00|2020-05-26 08:53:23|               null|            0.0|           64.9|           null|                null|\n",
      "| 91711|2019-05-22 00:00:00|2020-06-01 00:00:00| 58.9|     C|               null|               null|2019-06-21 00:00:00|           58.9|           null|           null|                null|\n",
      "| 91921|2019-05-22 00:00:00|2020-06-01 00:00:00| 99.9|     C|               null|               null|2020-09-18 00:00:00|           99.9|           null|           null|                null|\n",
      "| 91998|2019-05-22 00:00:00|2020-06-01 00:00:00| 64.9|     C|               null|               null|2019-10-24 00:00:00|           64.9|           null|           null|                null|\n",
      "| 92053|2019-05-22 00:00:00|2020-06-01 00:00:00| 64.9|     C|               null|               null|2020-03-06 00:00:00|           64.9|           null|           null|                null|\n",
      "| 92751|2019-05-23 00:00:00|2020-06-01 00:00:00| 79.9|     R|2020-05-19 00:00:00|2020-05-20 08:45:22|               null|            0.0|           79.9|           null|                null|\n",
      "| 93115|2019-05-23 00:00:00|2020-06-01 00:00:00| 64.9|     C|               null|               null|2020-09-18 00:00:00|           64.9|           null|           null|                null|\n",
      "| 94286|2019-05-24 00:00:00|2020-06-01 00:00:00| 64.9|     C|               null|               null|2019-07-03 00:00:00|           64.9|           null|           null|                null|\n",
      "| 95096|2019-05-24 00:00:00|2020-06-01 00:00:00| 64.9|     R|2020-05-25 00:00:00|2020-05-26 08:53:29|               null|            0.0|           64.9|           null|                null|\n",
      "| 95256|2019-05-24 00:00:00|2020-06-01 00:00:00| 79.9|     R|2020-06-01 00:00:00|2020-06-02 09:17:42|               null|            0.0|           79.9|           null|                null|\n",
      "| 96029|2019-05-27 00:00:00|2020-06-01 00:00:00|129.9|     C|               null|               null|2020-10-29 00:00:00|          129.9|           null|           null|                null|\n",
      "| 96416|2019-05-27 00:00:00|2020-06-01 00:00:00| 99.9|     C|               null|               null|2019-06-08 00:00:00|           99.9|           null|           null|                null|\n",
      "| 97897|2019-05-27 00:00:00|2020-06-01 00:00:00| 79.9|     C|               null|               null|2020-01-30 00:00:00|           79.9|           null|           null|                null|\n",
      "| 98735|2019-05-28 00:00:00|2020-06-01 00:00:00| 79.9|     C|               null|               null|2019-08-09 00:00:00|           79.9|           null|           null|                null|\n",
      "| 99234|2019-05-28 00:00:00|2020-06-01 00:00:00| 79.9|     C|               null|               null|2020-09-18 00:00:00|           79.9|           null|           null|                null|\n",
      "| 99775|2019-05-28 00:00:00|2020-06-01 00:00:00| 79.9|     R|2020-06-02 00:00:00|2020-06-03 10:42:59|               null|            0.0|          81.62|           null|                null|\n",
      "|100545|2019-05-28 00:00:00|2020-06-01 00:00:00| 79.9|     R|2020-06-30 00:00:00|2020-07-01 08:54:37|               null|            0.0|          85.26|           null|                null|\n",
      "|101018|2019-05-29 00:00:00|2020-06-01 00:00:00| 99.9|     R|2020-05-27 00:00:00|2020-05-28 09:08:19|               null|            0.0|           99.9|           null|                null|\n",
      "+------+-------------------+-------------------+-----+------+-------------------+-------------------+-------------------+---------------+---------------+---------------+--------------------+\n",
      "only showing top 20 rows\n",
      "\n"
     ]
    }
   ],
   "source": [
    "spark.sql('select * from base_de_dados').show()\n"
   ]
  },
  {
   "cell_type": "markdown",
   "metadata": {},
   "source": [
    "### Entendimento dos Dados:"
   ]
  },
  {
   "cell_type": "markdown",
   "metadata": {},
   "source": [
    "Quais são os nomes das colunas?"
   ]
  },
  {
   "cell_type": "code",
   "execution_count": 10,
   "metadata": {},
   "outputs": [
    {
     "data": {
      "text/plain": [
       "['id',\n",
       " 'data_emissao',\n",
       " 'data_vencimento',\n",
       " 'valor',\n",
       " 'status',\n",
       " 'pagamento_data',\n",
       " 'baixa_data',\n",
       " 'data_cancelamento',\n",
       " 'valor_cancelado',\n",
       " 'pagamento_valor',\n",
       " 'id_renegociacao',\n",
       " 'id_renegociacao_novo']"
      ]
     },
     "execution_count": 10,
     "metadata": {},
     "output_type": "execute_result"
    }
   ],
   "source": [
    "df.schema.fieldNames()"
   ]
  },
  {
   "cell_type": "markdown",
   "metadata": {},
   "source": [
    "Quais são os tipos?"
   ]
  },
  {
   "cell_type": "code",
   "execution_count": 11,
   "metadata": {},
   "outputs": [
    {
     "name": "stdout",
     "output_type": "stream",
     "text": [
      "root\n",
      " |-- id: string (nullable = true)\n",
      " |-- data_emissao: string (nullable = true)\n",
      " |-- data_vencimento: string (nullable = true)\n",
      " |-- valor: string (nullable = true)\n",
      " |-- status: string (nullable = true)\n",
      " |-- pagamento_data: string (nullable = true)\n",
      " |-- baixa_data: string (nullable = true)\n",
      " |-- data_cancelamento: string (nullable = true)\n",
      " |-- valor_cancelado: string (nullable = true)\n",
      " |-- pagamento_valor: string (nullable = true)\n",
      " |-- id_renegociacao: string (nullable = true)\n",
      " |-- id_renegociacao_novo: string (nullable = true)\n",
      "\n"
     ]
    }
   ],
   "source": [
    "df.printSchema()"
   ]
  },
  {
   "cell_type": "markdown",
   "metadata": {},
   "source": [
    "### Análise:"
   ]
  },
  {
   "cell_type": "markdown",
   "metadata": {},
   "source": [
    "a) Qual é o valor total de títulos emitidos no mês de junho de 2020? Qual é o valor total de títulos com vencimento no mesmo período? Por que esses números são diferentes?"
   ]
  },
  {
   "cell_type": "markdown",
   "metadata": {},
   "source": [
    "Valor total de títulos emitidos em julho (mês 6) de 2020:"
   ]
  },
  {
   "cell_type": "code",
   "execution_count": 53,
   "metadata": {},
   "outputs": [
    {
     "name": "stdout",
     "output_type": "stream",
     "text": [
      "+-----------------+\n",
      "|       sum(valor)|\n",
      "+-----------------+\n",
      "|540360.0000000052|\n",
      "+-----------------+\n",
      "\n"
     ]
    }
   ],
   "source": [
    "query = \"\"\"\n",
    "select\n",
    "    sum(valor)\n",
    "from base_de_dados\n",
    "where (\n",
    "    year(data_emissao) = 2020\n",
    "    and month(data_emissao) = 6.\n",
    ")\n",
    "\"\"\"\n",
    "spark.sql(query).show()"
   ]
  },
  {
   "cell_type": "markdown",
   "metadata": {},
   "source": [
    "Valor total de títulos vencimentos em julho (mês 6) de 2020:"
   ]
  },
  {
   "cell_type": "code",
   "execution_count": 54,
   "metadata": {},
   "outputs": [
    {
     "name": "stdout",
     "output_type": "stream",
     "text": [
      "+-----------------+\n",
      "|       sum(valor)|\n",
      "+-----------------+\n",
      "|3076802.819998371|\n",
      "+-----------------+\n",
      "\n"
     ]
    }
   ],
   "source": [
    "query = \"\"\"\n",
    "select\n",
    "    sum(valor)\n",
    "from base_de_dados\n",
    "\n",
    "where (\n",
    "    year(data_vencimento) = 2020\n",
    "    and month(data_vencimento) = 6\n",
    ")\n",
    "\"\"\"\n",
    "spark.sql(query).show()"
   ]
  },
  {
   "cell_type": "markdown",
   "metadata": {},
   "source": [
    "Quantidade de títulos emitidos em julho (mês 6) de 2020:"
   ]
  },
  {
   "cell_type": "code",
   "execution_count": 55,
   "metadata": {},
   "outputs": [
    {
     "name": "stdout",
     "output_type": "stream",
     "text": [
      "+-------------------+\n",
      "|count(data_emissao)|\n",
      "+-------------------+\n",
      "|               5423|\n",
      "+-------------------+\n",
      "\n"
     ]
    }
   ],
   "source": [
    "query = \"\"\"\n",
    "select\n",
    "    count(data_emissao)\n",
    "from base_de_dados\n",
    "\n",
    "where (\n",
    "    year(data_emissao) = 2020\n",
    "    and month(data_emissao) = 6\n",
    ")\n",
    "\"\"\"\n",
    "spark.sql(query).show()"
   ]
  },
  {
   "cell_type": "markdown",
   "metadata": {},
   "source": [
    "Quantidade de títulos vencimento em julho (mês 6) de 2020:"
   ]
  },
  {
   "cell_type": "code",
   "execution_count": 68,
   "metadata": {},
   "outputs": [
    {
     "name": "stdout",
     "output_type": "stream",
     "text": [
      "+----------------------+\n",
      "|count(data_vencimento)|\n",
      "+----------------------+\n",
      "|                 32082|\n",
      "+----------------------+\n",
      "\n"
     ]
    }
   ],
   "source": [
    "query = \"\"\"\n",
    "select\n",
    "    count(data_vencimento)\n",
    "from base_de_dados\n",
    "\n",
    "where (\n",
    "    year(data_vencimento) = 2020\n",
    "    and month(data_vencimento) = 6\n",
    ")\n",
    "\"\"\"\n",
    "spark.sql(query).show()"
   ]
  },
  {
   "cell_type": "markdown",
   "metadata": {},
   "source": [
    "*O motivo é que havia mais vencimentos agendados para julho (mês 6) de 2020 do que a emissão de boletos em julho (mês 6) de 2020.*"
   ]
  },
  {
   "cell_type": "markdown",
   "metadata": {},
   "source": [
    "b) Gerar um relatório com todos os clientes que tiveram títulos pagos em julho de 2020."
   ]
  },
  {
   "cell_type": "code",
   "execution_count": 43,
   "metadata": {},
   "outputs": [
    {
     "name": "stdout",
     "output_type": "stream",
     "text": [
      "+------+-------------------+-------------------+-----+------+-------------------+-------------------+---------------+\n",
      "|    id|       data_emissao|    data_vencimento|valor|status|     pagamento_data|         baixa_data|pagamento_valor|\n",
      "+------+-------------------+-------------------+-----+------+-------------------+-------------------+---------------+\n",
      "| 95256|2019-05-24 00:00:00|2020-06-01 00:00:00| 79.9|     R|2020-06-01 00:00:00|2020-06-02 09:17:42|           79.9|\n",
      "| 99775|2019-05-28 00:00:00|2020-06-01 00:00:00| 79.9|     R|2020-06-02 00:00:00|2020-06-03 10:42:59|          81.62|\n",
      "|100545|2019-05-28 00:00:00|2020-06-01 00:00:00| 79.9|     R|2020-06-30 00:00:00|2020-07-01 08:54:37|          85.26|\n",
      "|101580|2019-05-29 00:00:00|2020-06-01 00:00:00| 69.9|     R|2020-06-04 00:00:00|2020-06-05 09:41:29|          71.62|\n",
      "|104833|2019-05-31 00:00:00|2020-06-01 00:00:00| 69.9|     R|2020-06-09 00:00:00|2020-06-10 09:32:15|          72.18|\n",
      "|106498|2019-06-03 00:00:00|2020-06-01 00:00:00| 64.9|     R|2020-06-19 00:00:00|2020-06-22 08:49:31|          67.98|\n",
      "|108380|2019-06-04 00:00:00|2020-06-01 00:00:00| 79.9|     R|2020-06-30 00:00:00|2020-07-01 08:54:39|          85.26|\n",
      "|109324|2019-06-04 00:00:00|2020-06-01 00:00:00| 69.9|     R|2020-06-08 00:00:00|2020-06-09 08:56:19|          72.06|\n",
      "|109649|2019-06-04 00:00:00|2020-06-01 00:00:00| 99.9|     R|2020-06-23 00:00:00|2020-06-24 08:53:03|         105.42|\n",
      "|111695|2019-06-06 00:00:00|2020-06-01 00:00:00| 99.9|     R|2020-06-05 00:00:00|2020-06-08 10:48:32|         102.54|\n",
      "|111926|2019-06-06 00:00:00|2020-06-01 00:00:00| 99.9|     R|2020-06-15 00:00:00|2020-06-16 09:29:25|         104.14|\n",
      "|112441|2019-06-06 00:00:00|2020-06-01 00:00:00| 79.9|     R|2020-06-01 00:00:00|2020-06-02 09:17:48|           79.9|\n",
      "|112810|2019-06-06 00:00:00|2020-06-01 00:00:00| 79.9|     R|2020-06-01 00:00:00|2020-06-02 17:14:23|           79.9|\n",
      "|115133|2019-06-10 00:00:00|2020-06-01 00:00:00| 69.9|     R|2020-06-19 00:00:00|2020-06-22 08:17:26|          71.46|\n",
      "|115166|2019-06-10 00:00:00|2020-06-01 00:00:00| 99.9|     R|2020-06-01 00:00:00|2020-06-02 17:14:23|           99.9|\n",
      "|115331|2019-06-10 00:00:00|2020-06-01 00:00:00| 69.9|     R|2020-06-25 00:00:00|2020-06-26 08:31:55|          71.52|\n",
      "|115353|2019-06-10 00:00:00|2020-06-01 00:00:00| 69.9|     R|2020-06-25 00:00:00|2020-06-26 08:31:56|          71.52|\n",
      "|115441|2019-06-10 00:00:00|2020-06-01 00:00:00| 64.9|     R|2020-06-09 00:00:00|2020-06-10 08:18:03|          66.27|\n",
      "|115474|2019-06-10 00:00:00|2020-06-01 00:00:00| 99.9|     R|2020-06-05 00:00:00|2020-06-08 08:19:25|         101.98|\n",
      "|115540|2019-06-10 00:00:00|2020-06-01 00:00:00| 99.9|     R|2020-06-05 00:00:00|2020-06-08 08:19:25|         101.98|\n",
      "+------+-------------------+-------------------+-----+------+-------------------+-------------------+---------------+\n",
      "only showing top 20 rows\n",
      "\n"
     ]
    }
   ],
   "source": [
    "query = \"\"\"\n",
    "select\n",
    "    id,\n",
    "    data_emissao,\n",
    "    data_vencimento,\n",
    "    valor,\n",
    "    status,\n",
    "    pagamento_data,\n",
    "    baixa_data,\n",
    "    pagamento_valor\n",
    "from base_de_dados\n",
    "\n",
    "where (\n",
    "    year(pagamento_data) = 2020\n",
    "    and month(pagamento_data) = 6\n",
    ")\n",
    "\"\"\"\n",
    "spark.sql(query).show()"
   ]
  },
  {
   "cell_type": "markdown",
   "metadata": {},
   "source": [
    "c) Encontre quantos boletos foram renegociados no mês de julho de 2020."
   ]
  },
  {
   "cell_type": "code",
   "execution_count": 79,
   "metadata": {},
   "outputs": [
    {
     "name": "stdout",
     "output_type": "stream",
     "text": [
      "+---------+\n",
      "|count(id)|\n",
      "+---------+\n",
      "|        3|\n",
      "+---------+\n",
      "\n"
     ]
    }
   ],
   "source": [
    "query = \"\"\"\n",
    "select\n",
    "    count(id)\n",
    "from base_de_dados\n",
    "\n",
    "where (\n",
    "    year(data_emissao) = 2020\n",
    "    and month(data_emissao) = 6\n",
    "    and (\n",
    "        id_renegociacao is not null\n",
    "        or id_renegociacao_novo is not null\n",
    "    )\n",
    ")\n",
    "\"\"\"\n",
    "spark.sql(query).show()"
   ]
  },
  {
   "cell_type": "markdown",
   "metadata": {},
   "source": [
    "d) Encontre o valor pago de juros de todos os boletos pagos em junho de 2020."
   ]
  },
  {
   "cell_type": "markdown",
   "metadata": {},
   "source": [
    "Valor total de juros pagos por boletos em junho de 2020:"
   ]
  },
  {
   "cell_type": "code",
   "execution_count": 47,
   "metadata": {},
   "outputs": [
    {
     "name": "stdout",
     "output_type": "stream",
     "text": [
      "+------------------+\n",
      "|       juros_total|\n",
      "+------------------+\n",
      "|-77888.95000096597|\n",
      "+------------------+\n",
      "\n"
     ]
    }
   ],
   "source": [
    "query = \"\"\"\n",
    "select\n",
    "    sum(valor) - sum(pagamento_valor) as juros_total\n",
    "from base_de_dados\n",
    "\n",
    "where (\n",
    "    year(data_vencimento) = 2020\n",
    "    and status = 'R'\n",
    ")\n",
    "\"\"\"\n",
    "spark.sql(query).show()"
   ]
  },
  {
   "cell_type": "markdown",
   "metadata": {},
   "source": [
    "Juros pagos por boletos em junho de 2020:"
   ]
  },
  {
   "cell_type": "code",
   "execution_count": 46,
   "metadata": {},
   "outputs": [
    {
     "name": "stdout",
     "output_type": "stream",
     "text": [
      "+-------------------+\n",
      "|        juros_total|\n",
      "+-------------------+\n",
      "|                0.0|\n",
      "|                0.0|\n",
      "|                0.0|\n",
      "|                0.0|\n",
      "|                0.0|\n",
      "|-1.7199999999999989|\n",
      "| -5.359999999999999|\n",
      "|                0.0|\n",
      "|-1.7199999999999989|\n",
      "|                0.0|\n",
      "| -2.280000000000001|\n",
      "|                0.0|\n",
      "|-3.0799999999999983|\n",
      "| -5.359999999999999|\n",
      "|-2.1599999999999966|\n",
      "| -5.519999999999996|\n",
      "|-10.159999999999997|\n",
      "|-2.6400000000000006|\n",
      "| -4.239999999999995|\n",
      "|                0.0|\n",
      "+-------------------+\n",
      "only showing top 20 rows\n",
      "\n"
     ]
    }
   ],
   "source": [
    "query = \"\"\"\n",
    "select\n",
    "    valor - pagamento_valor as juros_total\n",
    "from base_de_dados\n",
    "\n",
    "where (\n",
    "    year(data_vencimento) = 2020\n",
    "    month()\n",
    "    and status = 'R'\n",
    ")\n",
    "\"\"\"\n",
    "spark.sql(query).show()"
   ]
  },
  {
   "cell_type": "markdown",
   "metadata": {},
   "source": [
    "e) Encontre o id dos boletos que foram usados para gerar uma renegociação em junho de 2020."
   ]
  },
  {
   "cell_type": "code",
   "execution_count": 76,
   "metadata": {},
   "outputs": [
    {
     "name": "stdout",
     "output_type": "stream",
     "text": [
      "+------+\n",
      "|    id|\n",
      "+------+\n",
      "|400729|\n",
      "|407525|\n",
      "|407525|\n",
      "+------+\n",
      "\n"
     ]
    }
   ],
   "source": [
    "query = \"\"\"\n",
    "select\n",
    "    id\n",
    "from base_de_dados\n",
    "\n",
    "where (\n",
    "    year(data_emissao) = 2020\n",
    "    and month(data_emissao) = 6\n",
    "    and (\n",
    "        id_renegociacao is not null\n",
    "        or id_renegociacao_novo is not null\n",
    "    )\n",
    ")\n",
    "\"\"\"\n",
    "spark.sql(query).show()"
   ]
  }
 ],
 "metadata": {
  "kernelspec": {
   "display_name": ".venv",
   "language": "python",
   "name": "python3"
  },
  "language_info": {
   "codemirror_mode": {
    "name": "ipython",
    "version": 3
   },
   "file_extension": ".py",
   "mimetype": "text/x-python",
   "name": "python",
   "nbconvert_exporter": "python",
   "pygments_lexer": "ipython3",
   "version": "3.10.12"
  },
  "orig_nbformat": 4
 },
 "nbformat": 4,
 "nbformat_minor": 2
}
