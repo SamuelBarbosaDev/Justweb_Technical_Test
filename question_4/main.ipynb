{
 "cells": [
  {
   "cell_type": "code",
   "execution_count": 154,
   "metadata": {},
   "outputs": [],
   "source": [
    "import os\n",
    "# Definindo a variável de ambiente do SPARK_VERSION com versão do Spark que estou usando:\n",
    "os.environ[\"SPARK_VERSION\"]=\"3.4.1\""
   ]
  },
  {
   "cell_type": "code",
   "execution_count": 155,
   "metadata": {},
   "outputs": [],
   "source": [
    "from pyspark.sql import SparkSession\n",
    "from pyspark.sql.types import (\n",
    "    StructField,\n",
    "    StructType,\n",
    "    StringType,\n",
    "    TimestampType,\n",
    "    DoubleType,\n",
    "    IntegerType,\n",
    ")"
   ]
  },
  {
   "cell_type": "markdown",
   "metadata": {},
   "source": [
    "SparkSession:"
   ]
  },
  {
   "cell_type": "code",
   "execution_count": 156,
   "metadata": {},
   "outputs": [],
   "source": [
    "spark = SparkSession.builder.appName('question_4').getOrCreate()"
   ]
  },
  {
   "cell_type": "markdown",
   "metadata": {},
   "source": [
    "Schema:"
   ]
  },
  {
   "cell_type": "code",
   "execution_count": 157,
   "metadata": {},
   "outputs": [],
   "source": [
    "schema = StructType([\n",
    "    StructField('id', StringType()),\n",
    "    StructField('data_emissao', TimestampType()),\n",
    "    StructField('data_vencimento', TimestampType()),\n",
    "    StructField('valor', DoubleType()),\n",
    "    StructField('status', StringType()),\n",
    "    StructField('pagamento_data', TimestampType()),\n",
    "    StructField('baixa_data', TimestampType()),\n",
    "    StructField('data_cancelamento', TimestampType()),\n",
    "    StructField('valor_cancelado', DoubleType()),\n",
    "    StructField('pagamento_valor', DoubleType()),\n",
    "    StructField('id_renegociacao', StringType()),\n",
    "    StructField('id_renegociacao_novo', StringType()),\n",
    "])"
   ]
  },
  {
   "cell_type": "markdown",
   "metadata": {},
   "source": [
    "### DataFrame:"
   ]
  },
  {
   "cell_type": "code",
   "execution_count": 158,
   "metadata": {},
   "outputs": [],
   "source": [
    "path = r'../data/Tabela financeiro - teste Python pleno.csv'"
   ]
  },
  {
   "cell_type": "code",
   "execution_count": 159,
   "metadata": {},
   "outputs": [],
   "source": [
    "df = spark.read.csv(\n",
    "    path,\n",
    "    sep=',',\n",
    "    header=True,\n",
    "    schema=schema\n",
    ").createOrReplaceTempView(\"base_de_dados\")"
   ]
  },
  {
   "cell_type": "code",
   "execution_count": 160,
   "metadata": {},
   "outputs": [
    {
     "name": "stdout",
     "output_type": "stream",
     "text": [
      "+------+-------------------+-------------------+-----+------+-------------------+-------------------+-------------------+---------------+---------------+---------------+--------------------+\n",
      "|    id|       data_emissao|    data_vencimento|valor|status|     pagamento_data|         baixa_data|  data_cancelamento|valor_cancelado|pagamento_valor|id_renegociacao|id_renegociacao_novo|\n",
      "+------+-------------------+-------------------+-----+------+-------------------+-------------------+-------------------+---------------+---------------+---------------+--------------------+\n",
      "| 86794|2019-05-20 00:00:00|2020-06-01 00:00:00| 99.9|     R|2020-05-25 00:00:00|2020-05-26 08:53:20|               null|            0.0|           99.9|           null|                null|\n",
      "| 89892|2019-05-21 00:00:00|2020-06-01 00:00:00| 99.9|     C|               null|               null|2019-05-21 00:00:00|           99.9|           null|           null|                null|\n",
      "| 91689|2019-05-22 00:00:00|2020-06-01 00:00:00| 64.9|     R|2020-05-25 00:00:00|2020-05-26 08:53:23|               null|            0.0|           64.9|           null|                null|\n",
      "| 91711|2019-05-22 00:00:00|2020-06-01 00:00:00| 58.9|     C|               null|               null|2019-06-21 00:00:00|           58.9|           null|           null|                null|\n",
      "| 91921|2019-05-22 00:00:00|2020-06-01 00:00:00| 99.9|     C|               null|               null|2020-09-18 00:00:00|           99.9|           null|           null|                null|\n",
      "| 91998|2019-05-22 00:00:00|2020-06-01 00:00:00| 64.9|     C|               null|               null|2019-10-24 00:00:00|           64.9|           null|           null|                null|\n",
      "| 92053|2019-05-22 00:00:00|2020-06-01 00:00:00| 64.9|     C|               null|               null|2020-03-06 00:00:00|           64.9|           null|           null|                null|\n",
      "| 92751|2019-05-23 00:00:00|2020-06-01 00:00:00| 79.9|     R|2020-05-19 00:00:00|2020-05-20 08:45:22|               null|            0.0|           79.9|           null|                null|\n",
      "| 93115|2019-05-23 00:00:00|2020-06-01 00:00:00| 64.9|     C|               null|               null|2020-09-18 00:00:00|           64.9|           null|           null|                null|\n",
      "| 94286|2019-05-24 00:00:00|2020-06-01 00:00:00| 64.9|     C|               null|               null|2019-07-03 00:00:00|           64.9|           null|           null|                null|\n",
      "| 95096|2019-05-24 00:00:00|2020-06-01 00:00:00| 64.9|     R|2020-05-25 00:00:00|2020-05-26 08:53:29|               null|            0.0|           64.9|           null|                null|\n",
      "| 95256|2019-05-24 00:00:00|2020-06-01 00:00:00| 79.9|     R|2020-06-01 00:00:00|2020-06-02 09:17:42|               null|            0.0|           79.9|           null|                null|\n",
      "| 96029|2019-05-27 00:00:00|2020-06-01 00:00:00|129.9|     C|               null|               null|2020-10-29 00:00:00|          129.9|           null|           null|                null|\n",
      "| 96416|2019-05-27 00:00:00|2020-06-01 00:00:00| 99.9|     C|               null|               null|2019-06-08 00:00:00|           99.9|           null|           null|                null|\n",
      "| 97897|2019-05-27 00:00:00|2020-06-01 00:00:00| 79.9|     C|               null|               null|2020-01-30 00:00:00|           79.9|           null|           null|                null|\n",
      "| 98735|2019-05-28 00:00:00|2020-06-01 00:00:00| 79.9|     C|               null|               null|2019-08-09 00:00:00|           79.9|           null|           null|                null|\n",
      "| 99234|2019-05-28 00:00:00|2020-06-01 00:00:00| 79.9|     C|               null|               null|2020-09-18 00:00:00|           79.9|           null|           null|                null|\n",
      "| 99775|2019-05-28 00:00:00|2020-06-01 00:00:00| 79.9|     R|2020-06-02 00:00:00|2020-06-03 10:42:59|               null|            0.0|          81.62|           null|                null|\n",
      "|100545|2019-05-28 00:00:00|2020-06-01 00:00:00| 79.9|     R|2020-06-30 00:00:00|2020-07-01 08:54:37|               null|            0.0|          85.26|           null|                null|\n",
      "|101018|2019-05-29 00:00:00|2020-06-01 00:00:00| 99.9|     R|2020-05-27 00:00:00|2020-05-28 09:08:19|               null|            0.0|           99.9|           null|                null|\n",
      "+------+-------------------+-------------------+-----+------+-------------------+-------------------+-------------------+---------------+---------------+---------------+--------------------+\n",
      "only showing top 20 rows\n",
      "\n"
     ]
    }
   ],
   "source": [
    "spark.sql('select * from base_de_dados').show()\n"
   ]
  },
  {
   "cell_type": "markdown",
   "metadata": {},
   "source": [
    "### Entendimento dos Dados:"
   ]
  },
  {
   "cell_type": "markdown",
   "metadata": {},
   "source": [
    "Quais são os nomes das colunas?"
   ]
  },
  {
   "cell_type": "code",
   "execution_count": 161,
   "metadata": {},
   "outputs": [],
   "source": [
    "# df.schema.fieldNames()"
   ]
  },
  {
   "cell_type": "markdown",
   "metadata": {},
   "source": [
    "Quais são os tipos?"
   ]
  },
  {
   "cell_type": "code",
   "execution_count": 162,
   "metadata": {},
   "outputs": [],
   "source": [
    "# df.printSchema()"
   ]
  },
  {
   "cell_type": "markdown",
   "metadata": {},
   "source": [
    "### Análise:"
   ]
  },
  {
   "cell_type": "markdown",
   "metadata": {},
   "source": [
    "a) Qual é o valor total de títulos emitidos no mês de junho de 2020? Qual é o valor total de títulos com vencimento no mesmo período? Por que esses números são diferentes?"
   ]
  },
  {
   "cell_type": "markdown",
   "metadata": {},
   "source": [
    "Valor total de títulos emitidos em junho (mês 6) de 2020:"
   ]
  },
  {
   "cell_type": "code",
   "execution_count": 163,
   "metadata": {},
   "outputs": [
    {
     "name": "stdout",
     "output_type": "stream",
     "text": [
      "+-----------------+\n",
      "|       sum(valor)|\n",
      "+-----------------+\n",
      "|540360.0000000052|\n",
      "+-----------------+\n",
      "\n"
     ]
    }
   ],
   "source": [
    "query = \"\"\"\n",
    "select\n",
    "    sum(valor)\n",
    "from base_de_dados\n",
    "\n",
    "where (\n",
    "    year(data_emissao) = 2020\n",
    "    and month(data_emissao) = 6\n",
    ")\n",
    "\"\"\"\n",
    "spark.sql(query).show()"
   ]
  },
  {
   "cell_type": "markdown",
   "metadata": {},
   "source": [
    "Valor total de títulos vencimentos em junho (mês 6) de 2020:"
   ]
  },
  {
   "cell_type": "code",
   "execution_count": 164,
   "metadata": {},
   "outputs": [
    {
     "name": "stdout",
     "output_type": "stream",
     "text": [
      "+-----------------+\n",
      "|       sum(valor)|\n",
      "+-----------------+\n",
      "|3076802.819998371|\n",
      "+-----------------+\n",
      "\n"
     ]
    }
   ],
   "source": [
    "query = \"\"\"\n",
    "select\n",
    "    sum(valor)\n",
    "from base_de_dados\n",
    "\n",
    "where (\n",
    "    year(data_vencimento) = 2020\n",
    "    and month(data_vencimento) = 6\n",
    ")\n",
    "\"\"\"\n",
    "spark.sql(query).show()"
   ]
  },
  {
   "cell_type": "markdown",
   "metadata": {},
   "source": [
    "Quantidade de títulos emitidos em junho (mês 6) de 2020:"
   ]
  },
  {
   "cell_type": "code",
   "execution_count": 165,
   "metadata": {},
   "outputs": [
    {
     "name": "stdout",
     "output_type": "stream",
     "text": [
      "+-------------------+\n",
      "|count(data_emissao)|\n",
      "+-------------------+\n",
      "|               5423|\n",
      "+-------------------+\n",
      "\n"
     ]
    }
   ],
   "source": [
    "query = \"\"\"\n",
    "select\n",
    "    count(data_emissao)\n",
    "from base_de_dados\n",
    "\n",
    "where (\n",
    "    year(data_emissao) = 2020\n",
    "    and month(data_emissao) = 6\n",
    ")\n",
    "\"\"\"\n",
    "spark.sql(query).show()"
   ]
  },
  {
   "cell_type": "markdown",
   "metadata": {},
   "source": [
    "Quantidade de títulos vencimento em junho (mês 6) de 2020:"
   ]
  },
  {
   "cell_type": "code",
   "execution_count": 166,
   "metadata": {},
   "outputs": [
    {
     "name": "stdout",
     "output_type": "stream",
     "text": [
      "+----------------------+\n",
      "|count(data_vencimento)|\n",
      "+----------------------+\n",
      "|                 32082|\n",
      "+----------------------+\n",
      "\n"
     ]
    }
   ],
   "source": [
    "query = \"\"\"\n",
    "select\n",
    "    count(data_vencimento)\n",
    "from base_de_dados\n",
    "\n",
    "where (\n",
    "    year(data_vencimento) = 2020\n",
    "    and month(data_vencimento) = 6\n",
    ")\n",
    "\"\"\"\n",
    "spark.sql(query).show()"
   ]
  },
  {
   "cell_type": "markdown",
   "metadata": {},
   "source": [
    "*O motivo é que havia mais vencimentos agendados para junho (mês 6) de 2020 do que a emissão de boletos em junho (mês 6) de 2020.*"
   ]
  },
  {
   "cell_type": "markdown",
   "metadata": {},
   "source": [
    "b) Gerar um relatório com todos os clientes que tiveram títulos pagos em julho de 2020."
   ]
  },
  {
   "cell_type": "code",
   "execution_count": 167,
   "metadata": {},
   "outputs": [
    {
     "name": "stdout",
     "output_type": "stream",
     "text": [
      "+------+-------------------+-------------------+-----+------+-------------------+-------------------+---------------+\n",
      "|    id|       data_emissao|    data_vencimento|valor|status|     pagamento_data|         baixa_data|pagamento_valor|\n",
      "+------+-------------------+-------------------+-----+------+-------------------+-------------------+---------------+\n",
      "|110562|2019-06-05 00:00:00|2020-06-01 00:00:00| 99.9|     R|2020-07-22 00:00:00|2020-07-23 09:02:14|         110.06|\n",
      "|112238|2019-06-06 00:00:00|2020-06-01 00:00:00| 99.9|     R|2020-07-31 00:00:00|2020-07-31 16:10:50|           99.9|\n",
      "|119472|2019-06-11 00:00:00|2020-06-01 00:00:00| 79.9|     R|2020-07-31 00:00:00|2020-07-31 11:37:50|           79.9|\n",
      "|120832|2019-06-12 00:00:00|2020-06-01 00:00:00| 79.9|     R|2020-07-01 00:00:00|2020-07-02 08:19:44|           82.1|\n",
      "|131361|2019-06-24 00:00:00|2020-06-01 00:00:00| 99.9|     R|2020-07-02 00:00:00|2020-07-03 08:25:46|         102.52|\n",
      "|131867|2019-06-24 00:00:00|2020-06-01 00:00:00| 79.9|     R|2020-07-03 00:00:00|2020-07-06 08:30:09|          82.12|\n",
      "|136426|2019-06-26 00:00:00|2020-06-01 00:00:00| 99.9|     R|2020-07-20 00:00:00|2020-07-21 08:10:25|         102.88|\n",
      "|137384|2019-06-26 00:00:00|2020-06-01 00:00:00| 79.9|     R|2020-07-03 00:00:00|2020-07-03 11:24:09|          81.55|\n",
      "|151412|2019-07-08 00:00:00|2020-06-01 00:00:00| 99.9|     R|2020-07-06 00:00:00|2020-07-07 08:24:31|          102.6|\n",
      "|153162|2019-07-09 00:00:00|2020-06-01 00:00:00| 99.9|     R|2020-07-09 00:00:00|2020-07-10 08:26:20|         102.66|\n",
      "|161626|2019-07-16 00:00:00|2020-06-01 00:00:00| 79.9|     R|2020-07-06 00:00:00|2020-07-07 08:24:32|           82.2|\n",
      "|163660|2019-07-19 00:00:00|2020-06-01 00:00:00| 99.9|     R|2020-07-31 00:00:00|2020-08-01 08:17:15|          111.5|\n",
      "|171636|2019-07-25 00:00:00|2020-06-01 00:00:00| 79.9|     R|2020-07-16 00:00:00|2020-07-17 11:09:17|          87.34|\n",
      "|173326|2019-07-29 00:00:00|2020-06-01 00:00:00| 99.9|     R|2020-07-01 00:00:00|2020-07-02 09:27:49|          106.7|\n",
      "|175784|2019-07-30 00:00:00|2020-06-01 00:00:00| 99.9|     R|2020-07-08 00:00:00|2020-07-09 08:54:06|         107.82|\n",
      "|176303|2019-07-30 00:00:00|2020-06-01 00:00:00| 99.9|     R|2020-07-03 00:00:00|2020-07-06 15:30:38|         107.02|\n",
      "|183009|2019-08-06 00:00:00|2020-06-01 00:00:00| 99.9|     R|2020-07-23 00:00:00|2020-07-24 08:39:14|          110.2|\n",
      "|183710|2019-08-06 00:00:00|2020-06-01 00:00:00| 69.9|     R|2020-07-10 00:00:00|2020-07-13 09:14:10|          75.58|\n",
      "|188279|2019-08-09 00:00:00|2020-06-01 00:00:00| 99.9|     R|2020-07-01 00:00:00|2020-07-02 09:28:02|          106.7|\n",
      "|190243|2019-08-12 00:00:00|2020-06-01 00:00:00| 99.9|     R|2020-07-03 00:00:00|2020-07-06 15:30:51|         107.02|\n",
      "+------+-------------------+-------------------+-----+------+-------------------+-------------------+---------------+\n",
      "only showing top 20 rows\n",
      "\n"
     ]
    }
   ],
   "source": [
    "query = \"\"\"\n",
    "select\n",
    "    id,\n",
    "    data_emissao,\n",
    "    data_vencimento,\n",
    "    valor,\n",
    "    status,\n",
    "    pagamento_data,\n",
    "    baixa_data,\n",
    "    pagamento_valor\n",
    "from base_de_dados\n",
    "\n",
    "where (\n",
    "    year(pagamento_data) = 2020\n",
    "    and month(pagamento_data) = 7\n",
    ")\n",
    "\"\"\"\n",
    "spark.sql(query).show()"
   ]
  },
  {
   "cell_type": "markdown",
   "metadata": {},
   "source": [
    "c) Encontre quantos boletos foram renegociados no mês de julho de 2020."
   ]
  },
  {
   "cell_type": "code",
   "execution_count": 168,
   "metadata": {},
   "outputs": [
    {
     "name": "stdout",
     "output_type": "stream",
     "text": [
      "+---------+\n",
      "|count(id)|\n",
      "+---------+\n",
      "|        1|\n",
      "+---------+\n",
      "\n"
     ]
    }
   ],
   "source": [
    "query = \"\"\"\n",
    "select\n",
    "    count(id)\n",
    "from base_de_dados\n",
    "\n",
    "where (\n",
    "    year(data_vencimento) = 2020\n",
    "    and month(data_vencimento) = 7\n",
    "    and (\n",
    "        id_renegociacao is not null\n",
    "        or id_renegociacao_novo is not null\n",
    "    )\n",
    ")\n",
    "\"\"\"\n",
    "spark.sql(query).show()"
   ]
  },
  {
   "cell_type": "markdown",
   "metadata": {},
   "source": [
    "d) Encontre o valor pago de juros de todos os boletos pagos em junho de 2020."
   ]
  },
  {
   "cell_type": "markdown",
   "metadata": {},
   "source": [
    "Valor total de juros pagos por boletos em junho de 2020:"
   ]
  },
  {
   "cell_type": "code",
   "execution_count": 169,
   "metadata": {},
   "outputs": [
    {
     "name": "stdout",
     "output_type": "stream",
     "text": [
      "+------------------+\n",
      "|       juros_total|\n",
      "+------------------+\n",
      "|-7964.829999999201|\n",
      "+------------------+\n",
      "\n"
     ]
    }
   ],
   "source": [
    "query = \"\"\"\n",
    "select\n",
    "    sum(valor) - sum(pagamento_valor) as juros_total\n",
    "from base_de_dados\n",
    "\n",
    "where (\n",
    "    year(data_vencimento) = 2020\n",
    "    and month(data_emissao) = 6\n",
    "    and status = 'R'\n",
    ")\n",
    "\"\"\"\n",
    "spark.sql(query).show()"
   ]
  },
  {
   "cell_type": "markdown",
   "metadata": {},
   "source": [
    "Juros pagos por boletos em junho de 2020:"
   ]
  },
  {
   "cell_type": "code",
   "execution_count": 170,
   "metadata": {},
   "outputs": [
    {
     "name": "stdout",
     "output_type": "stream",
     "text": [
      "+--------------------+\n",
      "|         juros_total|\n",
      "+--------------------+\n",
      "|                 0.0|\n",
      "|-0.09999999999999432|\n",
      "|                 0.0|\n",
      "|  -4.409999999999997|\n",
      "| -3.2299999999999898|\n",
      "|                 0.0|\n",
      "|                 0.0|\n",
      "|                 0.0|\n",
      "|                 0.0|\n",
      "| -2.9099999999999966|\n",
      "|               -4.25|\n",
      "|  -7.429999999999993|\n",
      "|                 0.0|\n",
      "|                 0.0|\n",
      "|                 0.0|\n",
      "| -3.1499999999999915|\n",
      "|                 0.0|\n",
      "|                 0.0|\n",
      "|  -4.709999999999994|\n",
      "|                 0.0|\n",
      "+--------------------+\n",
      "only showing top 20 rows\n",
      "\n"
     ]
    }
   ],
   "source": [
    "query = \"\"\"\n",
    "select\n",
    "    valor - pagamento_valor as juros_total\n",
    "from base_de_dados\n",
    "\n",
    "where (\n",
    "    year(data_emissao) = 2020\n",
    "    and month(data_emissao) = 6\n",
    "    and status = 'R'\n",
    ")\n",
    "\"\"\"\n",
    "spark.sql(query).show()"
   ]
  },
  {
   "cell_type": "markdown",
   "metadata": {},
   "source": [
    "e) Encontre o id dos boletos que foram usados para gerar uma renegociação em junho de 2020."
   ]
  },
  {
   "cell_type": "code",
   "execution_count": 171,
   "metadata": {},
   "outputs": [
    {
     "name": "stdout",
     "output_type": "stream",
     "text": [
      "+------+---------------+--------------------+\n",
      "|    id|id_renegociacao|id_renegociacao_novo|\n",
      "+------+---------------+--------------------+\n",
      "|400729|           null|               541.0|\n",
      "|407525|           null|               542.0|\n",
      "|407525|           null|               542.0|\n",
      "+------+---------------+--------------------+\n",
      "\n"
     ]
    }
   ],
   "source": [
    "query = \"\"\"\n",
    "select\n",
    "    id,\n",
    "    id_renegociacao,\n",
    "    id_renegociacao_novo\n",
    "from base_de_dados\n",
    "\n",
    "where (\n",
    "    year(data_emissao) = 2020\n",
    "    and month(data_emissao) = 6\n",
    "    and (\n",
    "        id_renegociacao is not null\n",
    "        or id_renegociacao_novo is not null\n",
    "    )\n",
    ")\n",
    "\"\"\"\n",
    "spark.sql(query).show()"
   ]
  }
 ],
 "metadata": {
  "kernelspec": {
   "display_name": ".venv",
   "language": "python",
   "name": "python3"
  },
  "language_info": {
   "codemirror_mode": {
    "name": "ipython",
    "version": 3
   },
   "file_extension": ".py",
   "mimetype": "text/x-python",
   "name": "python",
   "nbconvert_exporter": "python",
   "pygments_lexer": "ipython3",
   "version": "3.10.12"
  },
  "orig_nbformat": 4
 },
 "nbformat": 4,
 "nbformat_minor": 2
}
